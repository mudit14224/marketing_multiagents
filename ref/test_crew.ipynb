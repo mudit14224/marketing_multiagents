{
 "cells": [
  {
   "cell_type": "code",
   "execution_count": 102,
   "metadata": {},
   "outputs": [],
   "source": [
    "# Imports\n",
    "from crewai import Agent, Task, Crew\n",
    "from langchain_openai import ChatOpenAI\n",
    "import os\n",
    "os.environ[\"OPENAI_API_KEY\"] = \"sk-proj-Myp6XS0o8nbU1c2w7hJQT3BlbkFJiuKP2STZQPlCN2Q5W683\"\n",
    "os.environ[\"SERPER_API_KEY\"] = \"22c46d0058e5749e043b579d50860e011f4358ba\""
   ]
  },
  {
   "cell_type": "code",
   "execution_count": 103,
   "metadata": {},
   "outputs": [],
   "source": [
    "llm = ChatOpenAI(\n",
    "    model = \"crewai-gemma\",\n",
    "    base_url = \"http://localhost:11434/v1\")\n"
   ]
  },
  {
   "cell_type": "code",
   "execution_count": 104,
   "metadata": {},
   "outputs": [
    {
     "name": "stderr",
     "output_type": "stream",
     "text": [
      "2024-06-14 22:12:46,239 - 8400440320 - __init__.py-__init__:518 - WARNING: Overriding of current TracerProvider is not allowed\n"
     ]
    },
    {
     "name": "stdout",
     "output_type": "stream",
     "text": [
      "\u001b[1m\u001b[95m [DEBUG]: == Working Agent: Math Professor\u001b[00m\n",
      "\u001b[1m\u001b[95m [INFO]: == Starting Task: what is 3 + 5\u001b[00m\n",
      "\n",
      "\n",
      "\u001b[1m> Entering new CrewAgentExecutor chain...\u001b[0m\n",
      "\u001b[32;1m\u001b[1;3m**Thought:**\n",
      "The sum of two numbers can be easily calculated by adding their individual values. In this case, 3 and 5 are the two numbers we need to add.\n",
      "\n",
      "**Final Answer:**\n",
      "3 + 5 = **8**\n",
      "\n",
      "Therefore, the sum of 3 and 5 is **8**.\u001b[0m\n",
      "\n",
      "\u001b[1m> Finished chain.\u001b[0m\n",
      "\u001b[1m\u001b[92m [DEBUG]: == [Math Professor] Task output: **\n",
      "3 + 5 = **8**\n",
      "\n",
      "Therefore, the sum of 3 and 5 is **8**.\n",
      "\n",
      "\u001b[00m\n",
      "**\n",
      "3 + 5 = **8**\n",
      "\n",
      "Therefore, the sum of 3 and 5 is **8**.\n"
     ]
    }
   ],
   "source": [
    "general_agent = Agent(role = \"Math Professor\",\n",
    "                      goal = \"\"\"Provide the solution to the students that are asking mathematical questions and give them the answer.\"\"\",\n",
    "                      backstory = \"\"\"You are an excellent math professor that likes to solve math questions in a way that everyone can understand your solution\"\"\",\n",
    "                      allow_delegation = False,\n",
    "                      verbose = True,\n",
    "                      llm = llm)\n",
    "task = Task (description=\"\"\"what is 3 + 5\"\"\",\n",
    "             agent = general_agent,\n",
    "             expected_output=\"A numerical answer.\")\n",
    "\n",
    "crew = Crew(\n",
    "            agents=[general_agent],\n",
    "            tasks=[task],\n",
    "            verbose=2\n",
    "        )\n",
    "\n",
    "result = crew.kickoff()\n",
    "\n",
    "print(result)"
   ]
  },
  {
   "cell_type": "markdown",
   "metadata": {},
   "source": [
    "## Serper tool test"
   ]
  },
  {
   "cell_type": "code",
   "execution_count": 105,
   "metadata": {},
   "outputs": [],
   "source": [
    "from crewai_tools import SerperDevTool, ScrapeWebsiteTool, WebsiteSearchTool\n",
    "from crewai_tools import tool"
   ]
  },
  {
   "cell_type": "code",
   "execution_count": 106,
   "metadata": {},
   "outputs": [],
   "source": [
    "# @tool('search_tool')\n",
    "# def search(search_query: str):\n",
    "#     \"\"\"Search the web for information on a given topic\"\"\"\n",
    "#     s = SerperDevTool()\n",
    "#     response = s.run(search_query=search_query)\n",
    "#     return response"
   ]
  },
  {
   "cell_type": "code",
   "execution_count": 107,
   "metadata": {},
   "outputs": [],
   "source": [
    "# Create an agent that is able to search the website for a soccer team\n",
    "scout_agent = Agent(\n",
    "    role=\"Senior Youth Scout\",\n",
    "    goal=\"Search the web and find out all of the information about a soccer club.\",\n",
    "    backstory=(\n",
    "        \"\"\"You work for a young soccer talent agency and you are looking for\n",
    "            soccer clubs to enroll young children in it.You need to look \n",
    "            into {team} soccer club and find out all the relevant information.\"\"\"\n",
    "    ),\n",
    "    verbose=True\n",
    ")"
   ]
  },
  {
   "cell_type": "code",
   "execution_count": 108,
   "metadata": {},
   "outputs": [],
   "source": [
    "search_tool = SerperDevTool()"
   ]
  },
  {
   "cell_type": "code",
   "execution_count": 109,
   "metadata": {},
   "outputs": [],
   "source": [
    "task = Task (description=\"\"\"Look into {team} and see if they have a youth academy program and find out how to enroll in the academy.\"\"\",\n",
    "             agent = scout_agent,\n",
    "             expected_output=\"A detailed step by step guide on how to enroll a young kid in the academy program\",\n",
    "             tools=[search_tool])"
   ]
  },
  {
   "cell_type": "code",
   "execution_count": 110,
   "metadata": {},
   "outputs": [
    {
     "name": "stderr",
     "output_type": "stream",
     "text": [
      "2024-06-14 22:13:02,695 - 8400440320 - __init__.py-__init__:518 - WARNING: Overriding of current TracerProvider is not allowed\n"
     ]
    }
   ],
   "source": [
    "crew = Crew(\n",
    "            agents=[scout_agent],\n",
    "            tasks=[task],\n",
    "            verbose=2,\n",
    "        )"
   ]
  },
  {
   "cell_type": "code",
   "execution_count": 111,
   "metadata": {},
   "outputs": [
    {
     "name": "stdout",
     "output_type": "stream",
     "text": [
      "\u001b[1m\u001b[95m [DEBUG]: == Working Agent: Senior Youth Scout\u001b[00m\n",
      "\u001b[1m\u001b[95m [INFO]: == Starting Task: Look into Arsenal FC and see if they have a youth academy program and find out how to enroll in the academy.\u001b[00m\n",
      "\n",
      "\n",
      "\u001b[1m> Entering new CrewAgentExecutor chain...\u001b[0m\n",
      "\u001b[32;1m\u001b[1;3mThought: Let me start by searching the internet for information about Arsenal FC's youth academy program.\n",
      "\n",
      "Action: Search the internet\n",
      "\n",
      "Action Input: {'search_query': 'arsenal fc youth academy\u001b[0m\u001b[32;1m\u001b[1;3mI apologize for the mistake! Let me try again.\n",
      "\n",
      "Thought: I'll make sure to format the input correctly this time.\n",
      "\n",
      "Action: Search the internet\n",
      "\n",
      "Action Input: {'search_query': \"Arsenal FC youth academy\u001b[0m\u001b[32;1m\u001b[1;3mI see what's going on here! The issue is that I'm trying to pass a string instead of a Python dictionary as the input for the `Search the internet` action. Let me try again with the correct formatting!\n",
      "\n",
      "Thought: I'll format the input correctly this time.\n",
      "\n",
      "Action: Search the internet\n",
      "Action Input: {\"search_query\": \"Arsenal FC youth academy\u001b[0m\u001b[95m \n",
      "\n",
      "\n",
      "Search results: Title: Arsenal Academy - Home\n",
      "Link: https://arsenalacademy.co.uk/\n",
      "Snippet: Welcome to Strong Young Gunners online! Find out all about our mission to create the most challenging and caring Football Academy in the world.\n",
      "---\n",
      "Title: Academy | Arsenal.com\n",
      "Link: https://www.arsenal.com/academy\n",
      "Snippet: Arsenal Football Development · Modern Slavery Statement · The Arsenal Board · Safeguarding. Contact. Arsenal Football Club ... Academy youth cup 2009. Honours ...\n",
      "---\n",
      "Title: Arsenal Academy Squad: Player Profiles and Stats\n",
      "Link: https://www.arsenal.com/academy/players\n",
      "Snippet: Official source of the latest Arsenal FC Academy squad list first. With player profiles, video and latest stats for all the Arsenal Academy players.\n",
      "---\n",
      "Title: Arsenal F.C. Under-21s and Academy - Wikipedia\n",
      "Link: https://en.wikipedia.org/wiki/Arsenal_F.C._Under-21s_and_Academy\n",
      "Snippet: Arsenal Football Club Academy is the youth system of Arsenal Football Club based in Hale End, London, England. It is often referred to as Hale End ...\n",
      "---\n",
      "Title: Arsenal Academy (@officialarsenalacademy) - Instagram\n",
      "Link: https://www.instagram.com/officialarsenalacademy/\n",
      "Snippet: It's the highest professional game coaching course and takes 18 months to complete. Mehmet was awarded with his Pro Licence at the National Football Museum in ...\n",
      "---\n",
      "Title: Arizona Arsenal Soccer Club | Home\n",
      "Link: https://www.azarsenalsc.org/\n",
      "Snippet: Home; Info. HISTORY · CLUB OFFICIALS · BYLAWS · COVID-19 · LOGO USAGE · CORPORATE SPONSORS · WANT ADS · COACHING LIBRARY. Club.\n",
      "---\n",
      "Title: Arsenal Soccer Camps USA - Home\n",
      "Link: https://arsenalcampsus.com/\n",
      "Snippet: Official Arsenal Football Development Coaches conduct training sessions that come directly from the famed Arsenal academy at Hale End. Players enjoy insider ...\n",
      "---\n",
      "Title: Arsenal Academy (@ArsenalAcademy) / X\n",
      "Link: https://twitter.com/arsenalacademy?lang=en\n",
      "Snippet: The official account of the @Arsenal academy, featuring news and live tweets from #AFCU21 & #AFCU18.\n",
      "---\n",
      "Title: Our Academy\n",
      "Link: https://arsenalacademy.co.uk/academy/\n",
      "Snippet: ... Arsenal Academy to create the most challenging and caring environment in Youth Football. Our operations are integrated into the fabric of the decision ...\n",
      "---\n",
      "Title: Arsenal Football Development | United Futbol Academy\n",
      "Link: https://forsyth.unitedfa.org/arsenal\n",
      "Snippet: With well over 100 years of history, Arsenal will be sharing with UFA their expertise as one of the top teams in the English Premier League and one of the most ...\n",
      "---\n",
      "\n",
      "\u001b[00m\n",
      "\u001b[32;1m\u001b[1;3mThought: I now know the final answer!\n",
      "\n",
      "Final Answer:\n",
      "A detailed step-by-step guide on how to enroll a young kid in the Academy program:\n",
      "\n",
      "1. Visit the official Arsenal FC Youth Academy website at https://arsenalacademy.co.uk/.\n",
      "\n",
      "2. Click on the \"Academy\" tab and navigate to the section that describes their youth development program.\n",
      "\n",
      "3. Look for information about trials, recruitment, or open days where your child can be evaluated by their coaching staff.\n",
      "\n",
      "4. Check if Arsenal FC has a regional academy in your area, which might offer training sessions, coaching courses, or scouting opportunities.\n",
      "\n",
      "5. Keep an eye on the Academy's social media accounts (e.g., https://twitter.com/arsenalacademy) for announcements about upcoming trials, open days, or recruitment events.\n",
      "\n",
      "6. If you're interested in enrolling your child, reach out to the Academy directly via their official website contact form, email address, or phone number.\n",
      "\n",
      "7. Be prepared to provide relevant information about your child's soccer experience, skills, and interests when registering for a trial or open day.\n",
      "\n",
      "8. Follow up with the Academy after the registration process to confirm whether your child has been selected to participate in further assessments or training sessions.\n",
      "\n",
      "9. Once enrolled, your child will be part of the Arsenal FC Youth Academy program, where they'll receive top-notch coaching, guidance, and mentorship from experienced professionals.\n",
      "\n",
      "10. Monitor the Academy's website and social media accounts for updates on upcoming events, tournaments, and matches featuring their young players.\n",
      "\n",
      "By following these steps, you should be able to successfully enroll your child in the Arsenal FC Youth Academy program!\u001b[0m\n",
      "\n",
      "\u001b[1m> Finished chain.\u001b[0m\n",
      "\u001b[1m\u001b[92m [DEBUG]: == [Senior Youth Scout] Task output: A detailed step-by-step guide on how to enroll a young kid in the Academy program:\n",
      "\n",
      "1. Visit the official Arsenal FC Youth Academy website at https://arsenalacademy.co.uk/.\n",
      "\n",
      "2. Click on the \"Academy\" tab and navigate to the section that describes their youth development program.\n",
      "\n",
      "3. Look for information about trials, recruitment, or open days where your child can be evaluated by their coaching staff.\n",
      "\n",
      "4. Check if Arsenal FC has a regional academy in your area, which might offer training sessions, coaching courses, or scouting opportunities.\n",
      "\n",
      "5. Keep an eye on the Academy's social media accounts (e.g., https://twitter.com/arsenalacademy) for announcements about upcoming trials, open days, or recruitment events.\n",
      "\n",
      "6. If you're interested in enrolling your child, reach out to the Academy directly via their official website contact form, email address, or phone number.\n",
      "\n",
      "7. Be prepared to provide relevant information about your child's soccer experience, skills, and interests when registering for a trial or open day.\n",
      "\n",
      "8. Follow up with the Academy after the registration process to confirm whether your child has been selected to participate in further assessments or training sessions.\n",
      "\n",
      "9. Once enrolled, your child will be part of the Arsenal FC Youth Academy program, where they'll receive top-notch coaching, guidance, and mentorship from experienced professionals.\n",
      "\n",
      "10. Monitor the Academy's website and social media accounts for updates on upcoming events, tournaments, and matches featuring their young players.\n",
      "\n",
      "By following these steps, you should be able to successfully enroll your child in the Arsenal FC Youth Academy program!\n",
      "\n",
      "\u001b[00m\n"
     ]
    }
   ],
   "source": [
    "inputs = {\n",
    "    \"team\": \"Arsenal FC\"\n",
    "}\n",
    "\n",
    "result = crew.kickoff(inputs=inputs)"
   ]
  },
  {
   "cell_type": "code",
   "execution_count": 112,
   "metadata": {},
   "outputs": [
    {
     "name": "stdout",
     "output_type": "stream",
     "text": [
      "A detailed step-by-step guide on how to enroll a young kid in the Academy program:\n",
      "\n",
      "1. Visit the official Arsenal FC Youth Academy website at https://arsenalacademy.co.uk/.\n",
      "\n",
      "2. Click on the \"Academy\" tab and navigate to the section that describes their youth development program.\n",
      "\n",
      "3. Look for information about trials, recruitment, or open days where your child can be evaluated by their coaching staff.\n",
      "\n",
      "4. Check if Arsenal FC has a regional academy in your area, which might offer training sessions, coaching courses, or scouting opportunities.\n",
      "\n",
      "5. Keep an eye on the Academy's social media accounts (e.g., https://twitter.com/arsenalacademy) for announcements about upcoming trials, open days, or recruitment events.\n",
      "\n",
      "6. If you're interested in enrolling your child, reach out to the Academy directly via their official website contact form, email address, or phone number.\n",
      "\n",
      "7. Be prepared to provide relevant information about your child's soccer experience, skills, and interests when registering for a trial or open day.\n",
      "\n",
      "8. Follow up with the Academy after the registration process to confirm whether your child has been selected to participate in further assessments or training sessions.\n",
      "\n",
      "9. Once enrolled, your child will be part of the Arsenal FC Youth Academy program, where they'll receive top-notch coaching, guidance, and mentorship from experienced professionals.\n",
      "\n",
      "10. Monitor the Academy's website and social media accounts for updates on upcoming events, tournaments, and matches featuring their young players.\n",
      "\n",
      "By following these steps, you should be able to successfully enroll your child in the Arsenal FC Youth Academy program!\n"
     ]
    }
   ],
   "source": [
    "print(result)"
   ]
  },
  {
   "cell_type": "code",
   "execution_count": null,
   "metadata": {},
   "outputs": [],
   "source": []
  }
 ],
 "metadata": {
  "kernelspec": {
   "display_name": "base",
   "language": "python",
   "name": "python3"
  },
  "language_info": {
   "codemirror_mode": {
    "name": "ipython",
    "version": 3
   },
   "file_extension": ".py",
   "mimetype": "text/x-python",
   "name": "python",
   "nbconvert_exporter": "python",
   "pygments_lexer": "ipython3",
   "version": "3.10.12"
  }
 },
 "nbformat": 4,
 "nbformat_minor": 2
}
